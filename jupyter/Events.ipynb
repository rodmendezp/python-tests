{
 "cells": [
  {
   "cell_type": "markdown",
   "metadata": {},
   "source": [
    "# Events"
   ]
  },
  {
   "cell_type": "markdown",
   "metadata": {},
   "source": [
    "You can register callbacks function which will be called on specific events within the IPython code.  \n",
    "These are the events in Jupyter Notebook\n",
    "* shell_initialized(ipython): this event gets triggered only once, at the end of setting up IPython. Extension registered to load by default as part of configuration can use this to execute code to finalize setup\n",
    "* pre_run_cell(info): fires prior to interactive execution. An object containing information used for the code execution is provided as an argument.\n",
    "* pre_execute: is triggered prior to any execution. Sometimes code can be executed by libraries, in which cases pre_run_cell will not fire \n",
    "* post_run_cell: runs after interactive execution.The object which will be returned as the execution result is provided as an argument.\n",
    "* post_execute: fires for all executions, not just interactive ones."
   ]
  },
  {
   "cell_type": "code",
   "execution_count": 1,
   "metadata": {},
   "outputs": [],
   "source": [
    "from IPython.core.getipython import get_ipython"
   ]
  },
  {
   "cell_type": "code",
   "execution_count": 2,
   "metadata": {},
   "outputs": [],
   "source": [
    "ipython = get_ipython()"
   ]
  },
  {
   "cell_type": "code",
   "execution_count": 4,
   "metadata": {},
   "outputs": [],
   "source": [
    "def pre_execute():\n",
    "    print('pre_execute')\n",
    "    print('')\n",
    "    \n",
    "def pre_run_cell(info):\n",
    "    print('pre_run_cell')\n",
    "    print('info:')\n",
    "    print(info)\n",
    "    print('')\n",
    "    \n",
    "def post_execute():\n",
    "    print('post_execute')\n",
    "    print('')\n",
    "    \n",
    "def post_run_cell(result):\n",
    "    print('post_run_cell')\n",
    "    print('result:')\n",
    "    print(result)\n",
    "    print('')"
   ]
  },
  {
   "cell_type": "code",
   "execution_count": 5,
   "metadata": {},
   "outputs": [
    {
     "name": "stdout",
     "output_type": "stream",
     "text": [
      "post_execute\n",
      "\n",
      "post_run_cell\n",
      "result:\n",
      "<ExecutionResult object at 21fb2dc5438, execution_count=5 error_before_exec=None error_in_exec=None info=<ExecutionInfo object at 21fb51c5048, raw_cell=\"ipython.events.register('pre_execute', pre_execute..\" store_history=True silent=False shell_futures=True> result=None>\n",
      "\n"
     ]
    }
   ],
   "source": [
    "ipython.events.register('pre_execute', pre_execute)\n",
    "ipython.events.register('pre_run_cell', pre_run_cell)\n",
    "ipython.events.register('post_execute', post_execute)\n",
    "ipython.events.register('post_run_cell', post_run_cell)"
   ]
  },
  {
   "cell_type": "code",
   "execution_count": 6,
   "metadata": {},
   "outputs": [
    {
     "name": "stdout",
     "output_type": "stream",
     "text": [
      "pre_execute\n",
      "\n",
      "pre_run_cell\n",
      "info:\n",
      "<ExecutionInfo object at 21fb50d50b8, raw_cell=\"'hi'\" store_history=True silent=False shell_futures=True>\n",
      "\n"
     ]
    },
    {
     "data": {
      "text/plain": [
       "'hi'"
      ]
     },
     "execution_count": 6,
     "metadata": {},
     "output_type": "execute_result"
    },
    {
     "name": "stdout",
     "output_type": "stream",
     "text": [
      "post_execute\n",
      "\n",
      "post_run_cell\n",
      "result:\n",
      "<ExecutionResult object at 21fb51bfa90, execution_count=6 error_before_exec=None error_in_exec=None info=<ExecutionInfo object at 21fb50d50b8, raw_cell=\"'hi'\" store_history=True silent=False shell_futures=True> result='hi'>\n",
      "\n"
     ]
    }
   ],
   "source": [
    "'hi'"
   ]
  }
 ],
 "metadata": {
  "kernelspec": {
   "display_name": "Python 3",
   "language": "python",
   "name": "python3"
  },
  "language_info": {
   "codemirror_mode": {
    "name": "ipython",
    "version": 3
   },
   "file_extension": ".py",
   "mimetype": "text/x-python",
   "name": "python",
   "nbconvert_exporter": "python",
   "pygments_lexer": "ipython3",
   "version": "3.6.8"
  }
 },
 "nbformat": 4,
 "nbformat_minor": 2
}
