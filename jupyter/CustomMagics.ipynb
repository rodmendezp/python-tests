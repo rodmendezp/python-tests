{
 "cells": [
  {
   "cell_type": "markdown",
   "metadata": {},
   "source": [
    "## Magics\n",
    "They are basically commands for jupyter notebook.  \n",
    "There are 2 (3) types: line magic & cell magic  \n",
    "* LineMagic: executes a funciton and can add arguments to it in the same line (starts with %)  \n",
    "* CellMagic: executes a funciton and can use the same line as arguments and/or the cell content (starts with %%)"
   ]
  },
  {
   "cell_type": "markdown",
   "metadata": {},
   "source": [
    "### Easiest way to create custom magic"
   ]
  },
  {
   "cell_type": "code",
   "execution_count": 1,
   "metadata": {},
   "outputs": [],
   "source": [
    "from IPython.core.magic import register_line_magic, register_cell_magic, register_line_cell_magic"
   ]
  },
  {
   "cell_type": "code",
   "execution_count": 2,
   "metadata": {},
   "outputs": [],
   "source": [
    "@register_line_magic\n",
    "def lmagic(line):\n",
    "    print('my line magic')\n",
    "    return line"
   ]
  },
  {
   "cell_type": "code",
   "execution_count": 3,
   "metadata": {},
   "outputs": [
    {
     "name": "stdout",
     "output_type": "stream",
     "text": [
      "my line magic\n"
     ]
    },
    {
     "data": {
      "text/plain": [
       "'hello'"
      ]
     },
     "execution_count": 3,
     "metadata": {},
     "output_type": "execute_result"
    }
   ],
   "source": [
    "%lmagic hello"
   ]
  },
  {
   "cell_type": "code",
   "execution_count": 4,
   "metadata": {},
   "outputs": [],
   "source": [
    "@register_cell_magic\n",
    "def cmagic(line, cell):\n",
    "    print('my cell magic')\n",
    "    return line, cell"
   ]
  },
  {
   "cell_type": "code",
   "execution_count": 5,
   "metadata": {},
   "outputs": [
    {
     "name": "stdout",
     "output_type": "stream",
     "text": [
      "my cell magic\n"
     ]
    },
    {
     "data": {
      "text/plain": [
       "('hello', 'world\\n')"
      ]
     },
     "execution_count": 5,
     "metadata": {},
     "output_type": "execute_result"
    }
   ],
   "source": [
    "%%cmagic hello\n",
    "world"
   ]
  },
  {
   "cell_type": "markdown",
   "metadata": {},
   "source": [
    "### MagicClass"
   ]
  },
  {
   "cell_type": "code",
   "execution_count": 6,
   "metadata": {},
   "outputs": [],
   "source": [
    "from IPython.core.magic import magics_class, line_magic, Magics\n",
    "from IPython.core.getipython import get_ipython"
   ]
  },
  {
   "cell_type": "code",
   "execution_count": 7,
   "metadata": {},
   "outputs": [],
   "source": [
    "@magics_class\n",
    "class MyMagic(Magics):\n",
    "    def __init__(self, shell):\n",
    "        super(MyMagic, self).__init__(shell)\n",
    "        self.count = 0\n",
    "        \n",
    "    @line_magic\n",
    "    def myclasslinemagic(self, line):\n",
    "        self.count += 1\n",
    "        print('this magic has been executed %d times' % self.count)"
   ]
  },
  {
   "cell_type": "code",
   "execution_count": 8,
   "metadata": {},
   "outputs": [],
   "source": [
    "ipython = get_ipython()\n",
    "ipython.register_magics(MyMagic)"
   ]
  },
  {
   "cell_type": "code",
   "execution_count": 9,
   "metadata": {},
   "outputs": [
    {
     "name": "stdout",
     "output_type": "stream",
     "text": [
      "this magic has been executed 1 times\n"
     ]
    }
   ],
   "source": [
    "%myclasslinemagic"
   ]
  }
 ],
 "metadata": {
  "kernelspec": {
   "display_name": "Python 3",
   "language": "python",
   "name": "python3"
  },
  "language_info": {
   "codemirror_mode": {
    "name": "ipython",
    "version": 3
   },
   "file_extension": ".py",
   "mimetype": "text/x-python",
   "name": "python",
   "nbconvert_exporter": "python",
   "pygments_lexer": "ipython3",
   "version": "3.6.8"
  }
 },
 "nbformat": 4,
 "nbformat_minor": 2
}
